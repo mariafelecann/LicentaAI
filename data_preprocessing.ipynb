{
  "nbformat": 4,
  "nbformat_minor": 0,
  "metadata": {
    "colab": {
      "provenance": [],
      "gpuType": "T4",
      "authorship_tag": "ABX9TyNhpXPaovfZcjq5oKVwVWIM",
      "include_colab_link": true
    },
    "kernelspec": {
      "name": "python3",
      "display_name": "Python 3"
    },
    "language_info": {
      "name": "python"
    },
    "accelerator": "GPU"
  },
  "cells": [
    {
      "cell_type": "markdown",
      "metadata": {
        "id": "view-in-github",
        "colab_type": "text"
      },
      "source": [
        "<a href=\"https://colab.research.google.com/github/mariafelecann/LicentaAI/blob/dataPreprocessing/data_preprocessing.ipynb\" target=\"_parent\"><img src=\"https://colab.research.google.com/assets/colab-badge.svg\" alt=\"Open In Colab\"/></a>"
      ]
    },
    {
      "cell_type": "code",
      "execution_count": 1,
      "metadata": {
        "colab": {
          "base_uri": "https://localhost:8080/"
        },
        "id": "bivxp6EdCfDO",
        "outputId": "64b4d4fe-d556-408a-b369-ddf18cbccc7a"
      },
      "outputs": [
        {
          "output_type": "stream",
          "name": "stdout",
          "text": [
            "Requirement already satisfied: pandas in /usr/local/lib/python3.11/dist-packages (2.2.2)\n",
            "Requirement already satisfied: scikit-learn in /usr/local/lib/python3.11/dist-packages (1.6.1)\n",
            "Requirement already satisfied: spacy in /usr/local/lib/python3.11/dist-packages (3.7.5)\n",
            "Requirement already satisfied: imbalanced-learn in /usr/local/lib/python3.11/dist-packages (0.13.0)\n",
            "Collecting nrclex\n",
            "  Downloading NRCLex-4.0-py3-none-any.whl.metadata (3.2 kB)\n",
            "Requirement already satisfied: numpy in /usr/local/lib/python3.11/dist-packages (1.26.4)\n",
            "Requirement already satisfied: python-dateutil>=2.8.2 in /usr/local/lib/python3.11/dist-packages (from pandas) (2.8.2)\n",
            "Requirement already satisfied: pytz>=2020.1 in /usr/local/lib/python3.11/dist-packages (from pandas) (2025.1)\n",
            "Requirement already satisfied: tzdata>=2022.7 in /usr/local/lib/python3.11/dist-packages (from pandas) (2025.1)\n",
            "Requirement already satisfied: scipy>=1.6.0 in /usr/local/lib/python3.11/dist-packages (from scikit-learn) (1.13.1)\n",
            "Requirement already satisfied: joblib>=1.2.0 in /usr/local/lib/python3.11/dist-packages (from scikit-learn) (1.4.2)\n",
            "Requirement already satisfied: threadpoolctl>=3.1.0 in /usr/local/lib/python3.11/dist-packages (from scikit-learn) (3.5.0)\n",
            "Requirement already satisfied: spacy-legacy<3.1.0,>=3.0.11 in /usr/local/lib/python3.11/dist-packages (from spacy) (3.0.12)\n",
            "Requirement already satisfied: spacy-loggers<2.0.0,>=1.0.0 in /usr/local/lib/python3.11/dist-packages (from spacy) (1.0.5)\n",
            "Requirement already satisfied: murmurhash<1.1.0,>=0.28.0 in /usr/local/lib/python3.11/dist-packages (from spacy) (1.0.12)\n",
            "Requirement already satisfied: cymem<2.1.0,>=2.0.2 in /usr/local/lib/python3.11/dist-packages (from spacy) (2.0.11)\n",
            "Requirement already satisfied: preshed<3.1.0,>=3.0.2 in /usr/local/lib/python3.11/dist-packages (from spacy) (3.0.9)\n",
            "Requirement already satisfied: thinc<8.3.0,>=8.2.2 in /usr/local/lib/python3.11/dist-packages (from spacy) (8.2.5)\n",
            "Requirement already satisfied: wasabi<1.2.0,>=0.9.1 in /usr/local/lib/python3.11/dist-packages (from spacy) (1.1.3)\n",
            "Requirement already satisfied: srsly<3.0.0,>=2.4.3 in /usr/local/lib/python3.11/dist-packages (from spacy) (2.5.1)\n",
            "Requirement already satisfied: catalogue<2.1.0,>=2.0.6 in /usr/local/lib/python3.11/dist-packages (from spacy) (2.0.10)\n",
            "Requirement already satisfied: weasel<0.5.0,>=0.1.0 in /usr/local/lib/python3.11/dist-packages (from spacy) (0.4.1)\n",
            "Requirement already satisfied: typer<1.0.0,>=0.3.0 in /usr/local/lib/python3.11/dist-packages (from spacy) (0.15.1)\n",
            "Requirement already satisfied: tqdm<5.0.0,>=4.38.0 in /usr/local/lib/python3.11/dist-packages (from spacy) (4.67.1)\n",
            "Requirement already satisfied: requests<3.0.0,>=2.13.0 in /usr/local/lib/python3.11/dist-packages (from spacy) (2.32.3)\n",
            "Requirement already satisfied: pydantic!=1.8,!=1.8.1,<3.0.0,>=1.7.4 in /usr/local/lib/python3.11/dist-packages (from spacy) (2.10.6)\n",
            "Requirement already satisfied: jinja2 in /usr/local/lib/python3.11/dist-packages (from spacy) (3.1.5)\n",
            "Requirement already satisfied: setuptools in /usr/local/lib/python3.11/dist-packages (from spacy) (75.1.0)\n",
            "Requirement already satisfied: packaging>=20.0 in /usr/local/lib/python3.11/dist-packages (from spacy) (24.2)\n",
            "Requirement already satisfied: langcodes<4.0.0,>=3.2.0 in /usr/local/lib/python3.11/dist-packages (from spacy) (3.5.0)\n",
            "Requirement already satisfied: sklearn-compat<1,>=0.1 in /usr/local/lib/python3.11/dist-packages (from imbalanced-learn) (0.1.3)\n",
            "Requirement already satisfied: textblob in /usr/local/lib/python3.11/dist-packages (from nrclex) (0.19.0)\n",
            "INFO: pip is looking at multiple versions of nrclex to determine which version is compatible with other requirements. This could take a while.\n",
            "  Downloading NRCLex-3.0.0.tar.gz (396 kB)\n",
            "\u001b[2K     \u001b[90m━━━━━━━━━━━━━━━━━━━━━━━━━━━━━━━━━━━━━━━━\u001b[0m \u001b[32m396.4/396.4 kB\u001b[0m \u001b[31m7.2 MB/s\u001b[0m eta \u001b[36m0:00:00\u001b[0m\n",
            "\u001b[?25h  Preparing metadata (setup.py) ... \u001b[?25l\u001b[?25hdone\n",
            "Requirement already satisfied: language-data>=1.2 in /usr/local/lib/python3.11/dist-packages (from langcodes<4.0.0,>=3.2.0->spacy) (1.3.0)\n",
            "Requirement already satisfied: annotated-types>=0.6.0 in /usr/local/lib/python3.11/dist-packages (from pydantic!=1.8,!=1.8.1,<3.0.0,>=1.7.4->spacy) (0.7.0)\n",
            "Requirement already satisfied: pydantic-core==2.27.2 in /usr/local/lib/python3.11/dist-packages (from pydantic!=1.8,!=1.8.1,<3.0.0,>=1.7.4->spacy) (2.27.2)\n",
            "Requirement already satisfied: typing-extensions>=4.12.2 in /usr/local/lib/python3.11/dist-packages (from pydantic!=1.8,!=1.8.1,<3.0.0,>=1.7.4->spacy) (4.12.2)\n",
            "Requirement already satisfied: six>=1.5 in /usr/local/lib/python3.11/dist-packages (from python-dateutil>=2.8.2->pandas) (1.17.0)\n",
            "Requirement already satisfied: charset-normalizer<4,>=2 in /usr/local/lib/python3.11/dist-packages (from requests<3.0.0,>=2.13.0->spacy) (3.4.1)\n",
            "Requirement already satisfied: idna<4,>=2.5 in /usr/local/lib/python3.11/dist-packages (from requests<3.0.0,>=2.13.0->spacy) (3.10)\n",
            "Requirement already satisfied: urllib3<3,>=1.21.1 in /usr/local/lib/python3.11/dist-packages (from requests<3.0.0,>=2.13.0->spacy) (2.3.0)\n",
            "Requirement already satisfied: certifi>=2017.4.17 in /usr/local/lib/python3.11/dist-packages (from requests<3.0.0,>=2.13.0->spacy) (2025.1.31)\n",
            "Requirement already satisfied: blis<0.8.0,>=0.7.8 in /usr/local/lib/python3.11/dist-packages (from thinc<8.3.0,>=8.2.2->spacy) (0.7.11)\n",
            "Requirement already satisfied: confection<1.0.0,>=0.0.1 in /usr/local/lib/python3.11/dist-packages (from thinc<8.3.0,>=8.2.2->spacy) (0.1.5)\n",
            "Requirement already satisfied: click>=8.0.0 in /usr/local/lib/python3.11/dist-packages (from typer<1.0.0,>=0.3.0->spacy) (8.1.8)\n",
            "Requirement already satisfied: shellingham>=1.3.0 in /usr/local/lib/python3.11/dist-packages (from typer<1.0.0,>=0.3.0->spacy) (1.5.4)\n",
            "Requirement already satisfied: rich>=10.11.0 in /usr/local/lib/python3.11/dist-packages (from typer<1.0.0,>=0.3.0->spacy) (13.9.4)\n",
            "Requirement already satisfied: cloudpathlib<1.0.0,>=0.7.0 in /usr/local/lib/python3.11/dist-packages (from weasel<0.5.0,>=0.1.0->spacy) (0.20.0)\n",
            "Requirement already satisfied: smart-open<8.0.0,>=5.2.1 in /usr/local/lib/python3.11/dist-packages (from weasel<0.5.0,>=0.1.0->spacy) (7.1.0)\n",
            "Requirement already satisfied: MarkupSafe>=2.0 in /usr/local/lib/python3.11/dist-packages (from jinja2->spacy) (3.0.2)\n",
            "Requirement already satisfied: nltk>=3.9 in /usr/local/lib/python3.11/dist-packages (from textblob->nrclex) (3.9.1)\n",
            "Requirement already satisfied: marisa-trie>=1.1.0 in /usr/local/lib/python3.11/dist-packages (from language-data>=1.2->langcodes<4.0.0,>=3.2.0->spacy) (1.2.1)\n",
            "Requirement already satisfied: regex>=2021.8.3 in /usr/local/lib/python3.11/dist-packages (from nltk>=3.9->textblob->nrclex) (2024.11.6)\n",
            "Requirement already satisfied: markdown-it-py>=2.2.0 in /usr/local/lib/python3.11/dist-packages (from rich>=10.11.0->typer<1.0.0,>=0.3.0->spacy) (3.0.0)\n",
            "Requirement already satisfied: pygments<3.0.0,>=2.13.0 in /usr/local/lib/python3.11/dist-packages (from rich>=10.11.0->typer<1.0.0,>=0.3.0->spacy) (2.18.0)\n",
            "Requirement already satisfied: wrapt in /usr/local/lib/python3.11/dist-packages (from smart-open<8.0.0,>=5.2.1->weasel<0.5.0,>=0.1.0->spacy) (1.17.2)\n",
            "Requirement already satisfied: mdurl~=0.1 in /usr/local/lib/python3.11/dist-packages (from markdown-it-py>=2.2.0->rich>=10.11.0->typer<1.0.0,>=0.3.0->spacy) (0.1.2)\n",
            "Building wheels for collected packages: nrclex\n",
            "  Building wheel for nrclex (setup.py) ... \u001b[?25l\u001b[?25hdone\n",
            "  Created wheel for nrclex: filename=NRCLex-3.0.0-py3-none-any.whl size=43308 sha256=e0eefa372cf6ecc6b54b44a7c1e4473c65b7ddf5caa19deb4cdbb844e3803f21\n",
            "  Stored in directory: /root/.cache/pip/wheels/ed/ac/fa/7afddefd14f51c4a963ed291b9052746ed3929473e5a33118d\n",
            "Successfully built nrclex\n",
            "Installing collected packages: nrclex\n",
            "Successfully installed nrclex-3.0.0\n"
          ]
        }
      ],
      "source": [
        "!pip install pandas scikit-learn spacy imbalanced-learn nrclex numpy"
      ]
    },
    {
      "cell_type": "code",
      "source": [
        "!python -m spacy download ro_core_news_sm\n"
      ],
      "metadata": {
        "colab": {
          "base_uri": "https://localhost:8080/"
        },
        "id": "-iUvFffADo6n",
        "outputId": "d75c9ac2-09e3-4077-e48e-cc126aeabcea"
      },
      "execution_count": 2,
      "outputs": [
        {
          "output_type": "stream",
          "name": "stdout",
          "text": [
            "Collecting ro-core-news-sm==3.7.0\n",
            "  Downloading https://github.com/explosion/spacy-models/releases/download/ro_core_news_sm-3.7.0/ro_core_news_sm-3.7.0-py3-none-any.whl (12.9 MB)\n",
            "\u001b[2K     \u001b[90m━━━━━━━━━━━━━━━━━━━━━━━━━━━━━━━━━━━━━━━━\u001b[0m \u001b[32m12.9/12.9 MB\u001b[0m \u001b[31m9.4 MB/s\u001b[0m eta \u001b[36m0:00:00\u001b[0m\n",
            "\u001b[?25hRequirement already satisfied: spacy<3.8.0,>=3.7.0 in /usr/local/lib/python3.11/dist-packages (from ro-core-news-sm==3.7.0) (3.7.5)\n",
            "Requirement already satisfied: spacy-legacy<3.1.0,>=3.0.11 in /usr/local/lib/python3.11/dist-packages (from spacy<3.8.0,>=3.7.0->ro-core-news-sm==3.7.0) (3.0.12)\n",
            "Requirement already satisfied: spacy-loggers<2.0.0,>=1.0.0 in /usr/local/lib/python3.11/dist-packages (from spacy<3.8.0,>=3.7.0->ro-core-news-sm==3.7.0) (1.0.5)\n",
            "Requirement already satisfied: murmurhash<1.1.0,>=0.28.0 in /usr/local/lib/python3.11/dist-packages (from spacy<3.8.0,>=3.7.0->ro-core-news-sm==3.7.0) (1.0.12)\n",
            "Requirement already satisfied: cymem<2.1.0,>=2.0.2 in /usr/local/lib/python3.11/dist-packages (from spacy<3.8.0,>=3.7.0->ro-core-news-sm==3.7.0) (2.0.11)\n",
            "Requirement already satisfied: preshed<3.1.0,>=3.0.2 in /usr/local/lib/python3.11/dist-packages (from spacy<3.8.0,>=3.7.0->ro-core-news-sm==3.7.0) (3.0.9)\n",
            "Requirement already satisfied: thinc<8.3.0,>=8.2.2 in /usr/local/lib/python3.11/dist-packages (from spacy<3.8.0,>=3.7.0->ro-core-news-sm==3.7.0) (8.2.5)\n",
            "Requirement already satisfied: wasabi<1.2.0,>=0.9.1 in /usr/local/lib/python3.11/dist-packages (from spacy<3.8.0,>=3.7.0->ro-core-news-sm==3.7.0) (1.1.3)\n",
            "Requirement already satisfied: srsly<3.0.0,>=2.4.3 in /usr/local/lib/python3.11/dist-packages (from spacy<3.8.0,>=3.7.0->ro-core-news-sm==3.7.0) (2.5.1)\n",
            "Requirement already satisfied: catalogue<2.1.0,>=2.0.6 in /usr/local/lib/python3.11/dist-packages (from spacy<3.8.0,>=3.7.0->ro-core-news-sm==3.7.0) (2.0.10)\n",
            "Requirement already satisfied: weasel<0.5.0,>=0.1.0 in /usr/local/lib/python3.11/dist-packages (from spacy<3.8.0,>=3.7.0->ro-core-news-sm==3.7.0) (0.4.1)\n",
            "Requirement already satisfied: typer<1.0.0,>=0.3.0 in /usr/local/lib/python3.11/dist-packages (from spacy<3.8.0,>=3.7.0->ro-core-news-sm==3.7.0) (0.15.1)\n",
            "Requirement already satisfied: tqdm<5.0.0,>=4.38.0 in /usr/local/lib/python3.11/dist-packages (from spacy<3.8.0,>=3.7.0->ro-core-news-sm==3.7.0) (4.67.1)\n",
            "Requirement already satisfied: requests<3.0.0,>=2.13.0 in /usr/local/lib/python3.11/dist-packages (from spacy<3.8.0,>=3.7.0->ro-core-news-sm==3.7.0) (2.32.3)\n",
            "Requirement already satisfied: pydantic!=1.8,!=1.8.1,<3.0.0,>=1.7.4 in /usr/local/lib/python3.11/dist-packages (from spacy<3.8.0,>=3.7.0->ro-core-news-sm==3.7.0) (2.10.6)\n",
            "Requirement already satisfied: jinja2 in /usr/local/lib/python3.11/dist-packages (from spacy<3.8.0,>=3.7.0->ro-core-news-sm==3.7.0) (3.1.5)\n",
            "Requirement already satisfied: setuptools in /usr/local/lib/python3.11/dist-packages (from spacy<3.8.0,>=3.7.0->ro-core-news-sm==3.7.0) (75.1.0)\n",
            "Requirement already satisfied: packaging>=20.0 in /usr/local/lib/python3.11/dist-packages (from spacy<3.8.0,>=3.7.0->ro-core-news-sm==3.7.0) (24.2)\n",
            "Requirement already satisfied: langcodes<4.0.0,>=3.2.0 in /usr/local/lib/python3.11/dist-packages (from spacy<3.8.0,>=3.7.0->ro-core-news-sm==3.7.0) (3.5.0)\n",
            "Requirement already satisfied: numpy>=1.19.0 in /usr/local/lib/python3.11/dist-packages (from spacy<3.8.0,>=3.7.0->ro-core-news-sm==3.7.0) (1.26.4)\n",
            "Requirement already satisfied: language-data>=1.2 in /usr/local/lib/python3.11/dist-packages (from langcodes<4.0.0,>=3.2.0->spacy<3.8.0,>=3.7.0->ro-core-news-sm==3.7.0) (1.3.0)\n",
            "Requirement already satisfied: annotated-types>=0.6.0 in /usr/local/lib/python3.11/dist-packages (from pydantic!=1.8,!=1.8.1,<3.0.0,>=1.7.4->spacy<3.8.0,>=3.7.0->ro-core-news-sm==3.7.0) (0.7.0)\n",
            "Requirement already satisfied: pydantic-core==2.27.2 in /usr/local/lib/python3.11/dist-packages (from pydantic!=1.8,!=1.8.1,<3.0.0,>=1.7.4->spacy<3.8.0,>=3.7.0->ro-core-news-sm==3.7.0) (2.27.2)\n",
            "Requirement already satisfied: typing-extensions>=4.12.2 in /usr/local/lib/python3.11/dist-packages (from pydantic!=1.8,!=1.8.1,<3.0.0,>=1.7.4->spacy<3.8.0,>=3.7.0->ro-core-news-sm==3.7.0) (4.12.2)\n",
            "Requirement already satisfied: charset-normalizer<4,>=2 in /usr/local/lib/python3.11/dist-packages (from requests<3.0.0,>=2.13.0->spacy<3.8.0,>=3.7.0->ro-core-news-sm==3.7.0) (3.4.1)\n",
            "Requirement already satisfied: idna<4,>=2.5 in /usr/local/lib/python3.11/dist-packages (from requests<3.0.0,>=2.13.0->spacy<3.8.0,>=3.7.0->ro-core-news-sm==3.7.0) (3.10)\n",
            "Requirement already satisfied: urllib3<3,>=1.21.1 in /usr/local/lib/python3.11/dist-packages (from requests<3.0.0,>=2.13.0->spacy<3.8.0,>=3.7.0->ro-core-news-sm==3.7.0) (2.3.0)\n",
            "Requirement already satisfied: certifi>=2017.4.17 in /usr/local/lib/python3.11/dist-packages (from requests<3.0.0,>=2.13.0->spacy<3.8.0,>=3.7.0->ro-core-news-sm==3.7.0) (2025.1.31)\n",
            "Requirement already satisfied: blis<0.8.0,>=0.7.8 in /usr/local/lib/python3.11/dist-packages (from thinc<8.3.0,>=8.2.2->spacy<3.8.0,>=3.7.0->ro-core-news-sm==3.7.0) (0.7.11)\n",
            "Requirement already satisfied: confection<1.0.0,>=0.0.1 in /usr/local/lib/python3.11/dist-packages (from thinc<8.3.0,>=8.2.2->spacy<3.8.0,>=3.7.0->ro-core-news-sm==3.7.0) (0.1.5)\n",
            "Requirement already satisfied: click>=8.0.0 in /usr/local/lib/python3.11/dist-packages (from typer<1.0.0,>=0.3.0->spacy<3.8.0,>=3.7.0->ro-core-news-sm==3.7.0) (8.1.8)\n",
            "Requirement already satisfied: shellingham>=1.3.0 in /usr/local/lib/python3.11/dist-packages (from typer<1.0.0,>=0.3.0->spacy<3.8.0,>=3.7.0->ro-core-news-sm==3.7.0) (1.5.4)\n",
            "Requirement already satisfied: rich>=10.11.0 in /usr/local/lib/python3.11/dist-packages (from typer<1.0.0,>=0.3.0->spacy<3.8.0,>=3.7.0->ro-core-news-sm==3.7.0) (13.9.4)\n",
            "Requirement already satisfied: cloudpathlib<1.0.0,>=0.7.0 in /usr/local/lib/python3.11/dist-packages (from weasel<0.5.0,>=0.1.0->spacy<3.8.0,>=3.7.0->ro-core-news-sm==3.7.0) (0.20.0)\n",
            "Requirement already satisfied: smart-open<8.0.0,>=5.2.1 in /usr/local/lib/python3.11/dist-packages (from weasel<0.5.0,>=0.1.0->spacy<3.8.0,>=3.7.0->ro-core-news-sm==3.7.0) (7.1.0)\n",
            "Requirement already satisfied: MarkupSafe>=2.0 in /usr/local/lib/python3.11/dist-packages (from jinja2->spacy<3.8.0,>=3.7.0->ro-core-news-sm==3.7.0) (3.0.2)\n",
            "Requirement already satisfied: marisa-trie>=1.1.0 in /usr/local/lib/python3.11/dist-packages (from language-data>=1.2->langcodes<4.0.0,>=3.2.0->spacy<3.8.0,>=3.7.0->ro-core-news-sm==3.7.0) (1.2.1)\n",
            "Requirement already satisfied: markdown-it-py>=2.2.0 in /usr/local/lib/python3.11/dist-packages (from rich>=10.11.0->typer<1.0.0,>=0.3.0->spacy<3.8.0,>=3.7.0->ro-core-news-sm==3.7.0) (3.0.0)\n",
            "Requirement already satisfied: pygments<3.0.0,>=2.13.0 in /usr/local/lib/python3.11/dist-packages (from rich>=10.11.0->typer<1.0.0,>=0.3.0->spacy<3.8.0,>=3.7.0->ro-core-news-sm==3.7.0) (2.18.0)\n",
            "Requirement already satisfied: wrapt in /usr/local/lib/python3.11/dist-packages (from smart-open<8.0.0,>=5.2.1->weasel<0.5.0,>=0.1.0->spacy<3.8.0,>=3.7.0->ro-core-news-sm==3.7.0) (1.17.2)\n",
            "Requirement already satisfied: mdurl~=0.1 in /usr/local/lib/python3.11/dist-packages (from markdown-it-py>=2.2.0->rich>=10.11.0->typer<1.0.0,>=0.3.0->spacy<3.8.0,>=3.7.0->ro-core-news-sm==3.7.0) (0.1.2)\n",
            "Installing collected packages: ro-core-news-sm\n",
            "Successfully installed ro-core-news-sm-3.7.0\n",
            "\u001b[38;5;2m✔ Download and installation successful\u001b[0m\n",
            "You can now load the package via spacy.load('ro_core_news_sm')\n",
            "\u001b[38;5;3m⚠ Restart to reload dependencies\u001b[0m\n",
            "If you are in a Jupyter or Colab notebook, you may need to restart Python in\n",
            "order to load all the package's dependencies. You can do this by selecting the\n",
            "'Restart kernel' or 'Restart runtime' option.\n"
          ]
        }
      ]
    },
    {
      "cell_type": "code",
      "source": [
        "import pandas as pd\n",
        "import numpy as np\n",
        "import re\n",
        "import spacy\n",
        "from sklearn.model_selection import train_test_split\n",
        "from sklearn.feature_extraction.text import TfidfVectorizer\n",
        "from imblearn.over_sampling import SMOTE\n",
        "from nrclex import NRCLex"
      ],
      "metadata": {
        "id": "80MMV2ncDynV"
      },
      "execution_count": 3,
      "outputs": []
    },
    {
      "cell_type": "code",
      "source": [
        "df = pd.read_csv(\"/content/romanian-music-cleaned.csv\")\n",
        "print()\n",
        "print(\"inainte de orice\")\n",
        "print(df[['lyrics']].head())\n",
        "print()\n",
        "df = df.drop_duplicates().dropna()\n",
        "print()\n",
        "print(\"dupa drop duplicates si srop na\")\n",
        "print(df[['lyrics']].head())\n",
        "print()\n",
        "df['lyrics'] = df['lyrics'].str.lower()\n",
        "\n",
        "#df['lyrics'] = df['lyrics'].apply(lambda x: re.sub(r'[^a-zăâîșțA-ZĂÂÎȘȚ ]', '', x))\n",
        "df['lyrics'] = df['lyrics'].apply(lambda x: re.sub(r'[^a-zăâîșțA-ZĂÂÎȘȚ \\n]', '', x))\n",
        "# df['lyrics'] = df['lyrics'].apply(lambda x: re.sub(r'\\n', ' \\n ', x))\n",
        "df['lyrics_cleaned'] = df['lyrics']\n",
        "\n",
        "df['lyrics_cleaned'] = df['lyrics_cleaned'].apply(lambda x: re.sub(r\"\\[.*?\\]\", \"\", x))\n",
        "pd.set_option('display.max_colwidth', None)\n",
        "print(df[['lyrics_cleaned']].head())\n",
        "print()\n",
        "df['lyrics_cleaned'] = df['lyrics_cleaned'].str.replace(\"\\n\", \" \")\n",
        "print(\"dupa ce dam replace la newline\")\n",
        "pd.set_option('display.max_colwidth', None)\n",
        "print(df[['lyrics_cleaned']].head())\n",
        "df['lyrics_cleaned'] = df['lyrics_cleaned'].apply(lambda x: re.sub(r\"\\[.*?\\]|\\(bis\\s*x\\d+\\)\", \"\", x))\n",
        "df['lyrics_cleaned'] = df['lyrics_cleaned'].str.replace(\"bis x\", \"\")\n",
        "df['lyrics_cleaned'] = df['lyrics_cleaned'].str.replace(\"refren\", \"\")\n",
        "df['lyrics_cleaned'] = df['lyrics_cleaned'].str.replace(\"verse\", \"\")\n",
        "df['lyrics_cleaned'] = df['lyrics_cleaned'].str.replace(\"intro\", \"\")\n",
        "df['lyrics_cleaned'] = df['lyrics_cleaned'].str.replace(\"chorus\", \"\")\n",
        "df['lyrics_cleaned'] = df['lyrics_cleaned'].str.replace(\"versuri\", \"\")\n",
        "df['lyrics_cleaned'] = df['lyrics_cleaned'].str.replace(\"strofa\", \"\")\n",
        "df['lyrics_cleaned'] = df['lyrics_cleaned'].str.replace(\"punte\", \"\")\n",
        "print()\n",
        "print(\"dupa ce dam replace la bis si chestii de genu\")\n",
        "pd.set_option('display.max_colwidth', None)\n",
        "print(df[['lyrics_cleaned']].head())\n",
        "\n",
        "print()"
      ],
      "metadata": {
        "colab": {
          "base_uri": "https://localhost:8080/"
        },
        "id": "gZe_HCWBEJ8z",
        "outputId": "7b2b0508-3344-45f8-8f51-f91aef96de4f"
      },
      "execution_count": 46,
      "outputs": [
        {
          "output_type": "stream",
          "name": "stdout",
          "text": [
            "\n",
            "inainte de orice\n",
            "                                                                                                                                                                                                                                                                                                                                                                                                                                                                                                                                                                                                                                                                                                                                                                                                                                                                                                                                                                                                                                                                                                                                                                                                                                                                                                                                                                         lyrics\n",
            "0                                                                                                                                                                                                                                                                                                  Foaie verde ca lipanul,\\nFoaie verde ca lipanul, of-of!\\nDe trei ori păscu-mi calul, Leana mea!\\nCa să urc la mândra dealul, Leano!\\nRefren:\\nŢine, Doamne, vara lungă\\nCât mai am parale-n pungă.\\nCa să-mi pun șaua pe cal,\\nSă mă duc la mândra-n deal. (bis x2)\\nUrcai dealul jumătate.\\nUrcai dealul jumătate, of-of!\\nPierdui potcoavele toate, Leana mea!\\nPierdui potcoavele toate, Leano!\\nRefren:\\nŢine, Doamne, vara lungă\\nCât mai am parale-n pungă.\\nCa să-mi pun șaua pe cal,\\nSă mă duc la mândra-n deal. (bis x2)\\nNu e vina calului, măi.\\nNici a potcovarului, of-of!\\nDar îi vina mândrei mele, Leana mea!\\nC-a pus casa-n dealuri grele, Leano!\\nRefren:\\nŢine, Doamne, vara lungă\\nCât mai am parale-n pungă.\\nCa să-mi pun șaua pe cal,\\nSă mă duc la mândra-n deal. (bis x2)\\nNu e vina nici a ei, măi.\\nNu e vina nici a ei, of-of!\\nDar îi vina tot a mea, măi Leana mea!\\nCă prea des mă duc la ea, măi Leano!\\nRefren:\\nŢine, Doamne, vara lungă\\nCât mai am parale-n pungă.\\nCa să-mi pun șaua pe cal,\\nSă mă duc la mândra-n deal. (bis x2)\\nΔ\n",
            "1  Poți să-ți alegi un loc în lume,\\nSă-ți trăiești viața ta.\\nDar părinții și vecinii,\\nNu-i alege nimenea.\\nDar părinții și vecinii,\\nNu-i alege nimenea.\\nPoți avea palat ori casă,\\nCu fântâna lângă drum.\\nNu e viața ta frumoasă,\\nDacă n-ai vecinul bun.\\nNu e viața ta frumoasă,\\nDacă n-ai vecinul bun.\\nRefren:\\nOmule străin, azi îmi ești vecin!\\nNu turna pelin, măi!\\nSă-nchinăm un vin!\\nOm, la poartă, el sădește\\nN-ai invidie nici fir.\\nHărnicia vă unește,\\nTu sădești un trandafir.\\nHărnicia vă unește,\\nTu sădești un trandafir.\\nOmul crește și rodește,\\nTrandafirul îl miroși.\\nOmenia dăinuiește\\nLa vecinii cei frumoși.\\nOmenia dăinuiește\\nLa vecinii cei frumoși.\\nRefren:\\nOmule străin, azi îmi ești vecin!\\nNu turna pelin, măi!\\nSă-nchinăm un vin!\\nViața ta e mai frumoasă,\\nCrede, omule, ce-ți spun.\\nDe lumină-i plină casa,\\nDacă ești vecinul bun.\\nDe lumină-i plină casa,\\nDacă ești vecinul bun.\\nDe nevoi nu vă mai pasă,\\nCreștinește faceți tot.\\nȘi la sărbători la masă,\\nAre tot vecinul loc.\\nRefren:\\nOmule străin, azi îmi ești vecin!\\nNu turna pelin, măi!\\nSă-nchinăm un vin!\\nRefren final:\\nOmule străin,\\nCa frații să fim!\\nSă ne întâlin, măi –\\nO viață trăim!\\nVersuri – Petre Popa\\nVersuri – Petre Popa! De ce nicăieri nu se menționează? Nu e cântec popular simplu.\\nBună, o să menționăm cu mare drag.\\nΔ\n",
            "2                                                                                                                                                                                                                                                                                                                                                                                                                                                                                                                                   Măi bărbate fii cuminte,\\nMăi bărbate fii cuminte,\\nIa cânepa și mi-o vinde,\\nIa cânepa și mi-o vinde.\\nȘi mi-o vinde mai cu preț, măi.\\nȘi mi-o vinde mai cu preț, măi.\\nCă eu lunea nu lucrez,\\nCă eu lunea nu lucrez, măi!\\nMarți îi zi de sărbătoare,\\nMarți îi zi de sărbătoare.\\nMiercuri iaca cum mă doare,\\nMiercuri iaca cum mă doare!\\nJoi e ziua de ghioace,\\nJoi e ziua de ghioace.\\nVineri nică nu se face,\\nVineri nică nu se face!\\nSâmbătă mă spăl pe cap, măi.\\nSâmbătă mă spăl pe cap, măi.\\nDuminică-i horă-n sat,\\nDuminică-i horă-n sat, măi!\\nDuminică-i horă-n sat, măi!\\nDuminică-i horă-n sat, măi!\\nDe băut și de mâncat,\\nDe băut și de mâncat, măi!\\nSăptămâna o trecut, măi!\\nSăptămâna o trecut, măi!\\nȘi eu nică n-am făcut,\\nȘi eu nică n-am făcut, măi!\\nȘi eu nică n-am făcut,\\nȘi eu nică n-am făcut!\\nΔ\n",
            "3                                                                                                                                                                                                                                                                                                                                                                                                                                                                                                                                                                                                                                                                                                                                                                                                                         Frunzuliță iasomie,\\nAstă horă-mi place mie. (bis x2)\\nDe micuță am jucat,\\nCum muma m-o învățat.\\nȘi se joacă pe-nserat,\\nFiindcă-i sărbătoare-n sat. (bis x2)\\nCântă fete sprâncenate,\\nCu flăcăi din multe sate.\\nZii cobzare, zii cu foc,\\nCu drag să intrăm în joc.\\nZii scripcare, zii cu foc,\\nCu drag să intrăm în joc.\\nHora să se facă roată,\\nCa-n hora de altă dată.\\nNici moșnegii nu se lasă,\\nStrigă babele de acasă. (bis x2)\\nSă vină la hora mare,\\nÎn haine de sărbătoare.\\nCă-i horă moldovenească,\\nToată lumea să poftească.\\nΔ\n",
            "4                                                                                                                                                                                                                                                                                                                                                                                                                                                                                                                                                                                                                                                                                                                             Eu-s în deal și badea-n șesu.\\nEu-s în deal și badea-n șesu.\\nȘi mi-l cunosc după mersu.\\nȘi mi-l cunosc după mersu.\\nCă mere gândești că scrie.\\nCă mere gândești că scrie.\\nCa țăruza pe hârtie.\\nCa țăruza pe hârtie.\\nȘi îi mersu legănatu.\\nȘi îi mersu legănatu.\\nCu dragoste amestecatu.\\nCu dragoste amestecatu.\\nBadeo spiculeț de grâu.\\nBadeo spiculeț de grâu.\\nMult am vrut să nu te știu.\\nMult am vrut să nu te știu.\\nCă de când te știu pe tine.\\nCă de când te știu pe tine.\\nNu-mi trebuie altu-n lume.\\nNu-mi trebuie altu-n lume.\\nNumai tu bădițo, tu.\\nNumai tu bădițo, tu.\\nAltul bade nu și nu.\\nAltul bade nu și nu.\\nΔ\n",
            "\n",
            "\n",
            "dupa drop duplicates si srop na\n",
            "                                                                                                                                                                                                                                                                                                                                                                                                                                                                                                                                                                                                                                                                                                                                                                                                                                                                                                                                                                                                                                                                                                                                                                                                                                                                                                                                                                         lyrics\n",
            "0                                                                                                                                                                                                                                                                                                  Foaie verde ca lipanul,\\nFoaie verde ca lipanul, of-of!\\nDe trei ori păscu-mi calul, Leana mea!\\nCa să urc la mândra dealul, Leano!\\nRefren:\\nŢine, Doamne, vara lungă\\nCât mai am parale-n pungă.\\nCa să-mi pun șaua pe cal,\\nSă mă duc la mândra-n deal. (bis x2)\\nUrcai dealul jumătate.\\nUrcai dealul jumătate, of-of!\\nPierdui potcoavele toate, Leana mea!\\nPierdui potcoavele toate, Leano!\\nRefren:\\nŢine, Doamne, vara lungă\\nCât mai am parale-n pungă.\\nCa să-mi pun șaua pe cal,\\nSă mă duc la mândra-n deal. (bis x2)\\nNu e vina calului, măi.\\nNici a potcovarului, of-of!\\nDar îi vina mândrei mele, Leana mea!\\nC-a pus casa-n dealuri grele, Leano!\\nRefren:\\nŢine, Doamne, vara lungă\\nCât mai am parale-n pungă.\\nCa să-mi pun șaua pe cal,\\nSă mă duc la mândra-n deal. (bis x2)\\nNu e vina nici a ei, măi.\\nNu e vina nici a ei, of-of!\\nDar îi vina tot a mea, măi Leana mea!\\nCă prea des mă duc la ea, măi Leano!\\nRefren:\\nŢine, Doamne, vara lungă\\nCât mai am parale-n pungă.\\nCa să-mi pun șaua pe cal,\\nSă mă duc la mândra-n deal. (bis x2)\\nΔ\n",
            "1  Poți să-ți alegi un loc în lume,\\nSă-ți trăiești viața ta.\\nDar părinții și vecinii,\\nNu-i alege nimenea.\\nDar părinții și vecinii,\\nNu-i alege nimenea.\\nPoți avea palat ori casă,\\nCu fântâna lângă drum.\\nNu e viața ta frumoasă,\\nDacă n-ai vecinul bun.\\nNu e viața ta frumoasă,\\nDacă n-ai vecinul bun.\\nRefren:\\nOmule străin, azi îmi ești vecin!\\nNu turna pelin, măi!\\nSă-nchinăm un vin!\\nOm, la poartă, el sădește\\nN-ai invidie nici fir.\\nHărnicia vă unește,\\nTu sădești un trandafir.\\nHărnicia vă unește,\\nTu sădești un trandafir.\\nOmul crește și rodește,\\nTrandafirul îl miroși.\\nOmenia dăinuiește\\nLa vecinii cei frumoși.\\nOmenia dăinuiește\\nLa vecinii cei frumoși.\\nRefren:\\nOmule străin, azi îmi ești vecin!\\nNu turna pelin, măi!\\nSă-nchinăm un vin!\\nViața ta e mai frumoasă,\\nCrede, omule, ce-ți spun.\\nDe lumină-i plină casa,\\nDacă ești vecinul bun.\\nDe lumină-i plină casa,\\nDacă ești vecinul bun.\\nDe nevoi nu vă mai pasă,\\nCreștinește faceți tot.\\nȘi la sărbători la masă,\\nAre tot vecinul loc.\\nRefren:\\nOmule străin, azi îmi ești vecin!\\nNu turna pelin, măi!\\nSă-nchinăm un vin!\\nRefren final:\\nOmule străin,\\nCa frații să fim!\\nSă ne întâlin, măi –\\nO viață trăim!\\nVersuri – Petre Popa\\nVersuri – Petre Popa! De ce nicăieri nu se menționează? Nu e cântec popular simplu.\\nBună, o să menționăm cu mare drag.\\nΔ\n",
            "2                                                                                                                                                                                                                                                                                                                                                                                                                                                                                                                                   Măi bărbate fii cuminte,\\nMăi bărbate fii cuminte,\\nIa cânepa și mi-o vinde,\\nIa cânepa și mi-o vinde.\\nȘi mi-o vinde mai cu preț, măi.\\nȘi mi-o vinde mai cu preț, măi.\\nCă eu lunea nu lucrez,\\nCă eu lunea nu lucrez, măi!\\nMarți îi zi de sărbătoare,\\nMarți îi zi de sărbătoare.\\nMiercuri iaca cum mă doare,\\nMiercuri iaca cum mă doare!\\nJoi e ziua de ghioace,\\nJoi e ziua de ghioace.\\nVineri nică nu se face,\\nVineri nică nu se face!\\nSâmbătă mă spăl pe cap, măi.\\nSâmbătă mă spăl pe cap, măi.\\nDuminică-i horă-n sat,\\nDuminică-i horă-n sat, măi!\\nDuminică-i horă-n sat, măi!\\nDuminică-i horă-n sat, măi!\\nDe băut și de mâncat,\\nDe băut și de mâncat, măi!\\nSăptămâna o trecut, măi!\\nSăptămâna o trecut, măi!\\nȘi eu nică n-am făcut,\\nȘi eu nică n-am făcut, măi!\\nȘi eu nică n-am făcut,\\nȘi eu nică n-am făcut!\\nΔ\n",
            "3                                                                                                                                                                                                                                                                                                                                                                                                                                                                                                                                                                                                                                                                                                                                                                                                                         Frunzuliță iasomie,\\nAstă horă-mi place mie. (bis x2)\\nDe micuță am jucat,\\nCum muma m-o învățat.\\nȘi se joacă pe-nserat,\\nFiindcă-i sărbătoare-n sat. (bis x2)\\nCântă fete sprâncenate,\\nCu flăcăi din multe sate.\\nZii cobzare, zii cu foc,\\nCu drag să intrăm în joc.\\nZii scripcare, zii cu foc,\\nCu drag să intrăm în joc.\\nHora să se facă roată,\\nCa-n hora de altă dată.\\nNici moșnegii nu se lasă,\\nStrigă babele de acasă. (bis x2)\\nSă vină la hora mare,\\nÎn haine de sărbătoare.\\nCă-i horă moldovenească,\\nToată lumea să poftească.\\nΔ\n",
            "4                                                                                                                                                                                                                                                                                                                                                                                                                                                                                                                                                                                                                                                                                                                             Eu-s în deal și badea-n șesu.\\nEu-s în deal și badea-n șesu.\\nȘi mi-l cunosc după mersu.\\nȘi mi-l cunosc după mersu.\\nCă mere gândești că scrie.\\nCă mere gândești că scrie.\\nCa țăruza pe hârtie.\\nCa țăruza pe hârtie.\\nȘi îi mersu legănatu.\\nȘi îi mersu legănatu.\\nCu dragoste amestecatu.\\nCu dragoste amestecatu.\\nBadeo spiculeț de grâu.\\nBadeo spiculeț de grâu.\\nMult am vrut să nu te știu.\\nMult am vrut să nu te știu.\\nCă de când te știu pe tine.\\nCă de când te știu pe tine.\\nNu-mi trebuie altu-n lume.\\nNu-mi trebuie altu-n lume.\\nNumai tu bădițo, tu.\\nNumai tu bădițo, tu.\\nAltul bade nu și nu.\\nAltul bade nu și nu.\\nΔ\n",
            "\n",
            "                                                                                                                                                                                                                                                                                                                                                                                                                                                                                                                                                                                                                                                                                                                                                                                                                                                                                                                                                                                                                                                                                                                                                                                                                                                                                 lyrics_cleaned\n",
            "0                                                                                                                                                                                                                                                                                                            foaie verde ca lipanul\\nfoaie verde ca lipanul ofof\\nde trei ori păscumi calul leana mea\\nca să urc la mândra dealul leano\\nrefren\\nine doamne vara lungă\\ncât mai am paralen pungă\\nca sămi pun șaua pe cal\\nsă mă duc la mândran deal bis x\\nurcai dealul jumătate\\nurcai dealul jumătate ofof\\npierdui potcoavele toate leana mea\\npierdui potcoavele toate leano\\nrefren\\nine doamne vara lungă\\ncât mai am paralen pungă\\nca sămi pun șaua pe cal\\nsă mă duc la mândran deal bis x\\nnu e vina calului măi\\nnici a potcovarului ofof\\ndar îi vina mândrei mele leana mea\\nca pus casan dealuri grele leano\\nrefren\\nine doamne vara lungă\\ncât mai am paralen pungă\\nca sămi pun șaua pe cal\\nsă mă duc la mândran deal bis x\\nnu e vina nici a ei măi\\nnu e vina nici a ei ofof\\ndar îi vina tot a mea măi leana mea\\ncă prea des mă duc la ea măi leano\\nrefren\\nine doamne vara lungă\\ncât mai am paralen pungă\\nca sămi pun șaua pe cal\\nsă mă duc la mândran deal bis x\\n\n",
            "1  poți săți alegi un loc în lume\\nsăți trăiești viața ta\\ndar părinții și vecinii\\nnui alege nimenea\\ndar părinții și vecinii\\nnui alege nimenea\\npoți avea palat ori casă\\ncu fântâna lângă drum\\nnu e viața ta frumoasă\\ndacă nai vecinul bun\\nnu e viața ta frumoasă\\ndacă nai vecinul bun\\nrefren\\nomule străin azi îmi ești vecin\\nnu turna pelin măi\\nsănchinăm un vin\\nom la poartă el sădește\\nnai invidie nici fir\\nhărnicia vă unește\\ntu sădești un trandafir\\nhărnicia vă unește\\ntu sădești un trandafir\\nomul crește și rodește\\ntrandafirul îl miroși\\nomenia dăinuiește\\nla vecinii cei frumoși\\nomenia dăinuiește\\nla vecinii cei frumoși\\nrefren\\nomule străin azi îmi ești vecin\\nnu turna pelin măi\\nsănchinăm un vin\\nviața ta e mai frumoasă\\ncrede omule ceți spun\\nde luminăi plină casa\\ndacă ești vecinul bun\\nde luminăi plină casa\\ndacă ești vecinul bun\\nde nevoi nu vă mai pasă\\ncreștinește faceți tot\\nși la sărbători la masă\\nare tot vecinul loc\\nrefren\\nomule străin azi îmi ești vecin\\nnu turna pelin măi\\nsănchinăm un vin\\nrefren final\\nomule străin\\nca frații să fim\\nsă ne întâlin măi \\no viață trăim\\nversuri  petre popa\\nversuri  petre popa de ce nicăieri nu se menționează nu e cântec popular simplu\\nbună o să menționăm cu mare drag\\n\n",
            "2                                                                                                                                                                                                                                                                                                                                                                                                                                                                                                              măi bărbate fii cuminte\\nmăi bărbate fii cuminte\\nia cânepa și mio vinde\\nia cânepa și mio vinde\\nși mio vinde mai cu preț măi\\nși mio vinde mai cu preț măi\\ncă eu lunea nu lucrez\\ncă eu lunea nu lucrez măi\\nmarți îi zi de sărbătoare\\nmarți îi zi de sărbătoare\\nmiercuri iaca cum mă doare\\nmiercuri iaca cum mă doare\\njoi e ziua de ghioace\\njoi e ziua de ghioace\\nvineri nică nu se face\\nvineri nică nu se face\\nsâmbătă mă spăl pe cap măi\\nsâmbătă mă spăl pe cap măi\\nduminicăi horăn sat\\nduminicăi horăn sat măi\\nduminicăi horăn sat măi\\nduminicăi horăn sat măi\\nde băut și de mâncat\\nde băut și de mâncat măi\\nsăptămâna o trecut măi\\nsăptămâna o trecut măi\\nși eu nică nam făcut\\nși eu nică nam făcut măi\\nși eu nică nam făcut\\nși eu nică nam făcut\\n\n",
            "3                                                                                                                                                                                                                                                                                                                                                                                                                                                                                                                                                                                                                                                                                                                                                                                frunzuliță iasomie\\nastă horămi place mie bis x\\nde micuță am jucat\\ncum muma mo învățat\\nși se joacă penserat\\nfiindcăi sărbătoaren sat bis x\\ncântă fete sprâncenate\\ncu flăcăi din multe sate\\nzii cobzare zii cu foc\\ncu drag să intrăm în joc\\nzii scripcare zii cu foc\\ncu drag să intrăm în joc\\nhora să se facă roată\\ncan hora de altă dată\\nnici moșnegii nu se lasă\\nstrigă babele de acasă bis x\\nsă vină la hora mare\\nîn haine de sărbătoare\\ncăi horă moldovenească\\ntoată lumea să poftească\\n\n",
            "4                                                                                                                                                                                                                                                                                                                                                                                                                                                                                                                                                                                                                                                                                  eus în deal și badean șesu\\neus în deal și badean șesu\\nși mil cunosc după mersu\\nși mil cunosc după mersu\\ncă mere gândești că scrie\\ncă mere gândești că scrie\\nca țăruza pe hârtie\\nca țăruza pe hârtie\\nși îi mersu legănatu\\nși îi mersu legănatu\\ncu dragoste amestecatu\\ncu dragoste amestecatu\\nbadeo spiculeț de grâu\\nbadeo spiculeț de grâu\\nmult am vrut să nu te știu\\nmult am vrut să nu te știu\\ncă de când te știu pe tine\\ncă de când te știu pe tine\\nnumi trebuie altun lume\\nnumi trebuie altun lume\\nnumai tu bădițo tu\\nnumai tu bădițo tu\\naltul bade nu și nu\\naltul bade nu și nu\\n\n",
            "\n",
            "dupa ce dam replace la newline\n",
            "                                                                                                                                                                                                                                                                                                                                                                                                                                                                                                                                                                                                                                                                                                                                                                                                                                                                                                                                                                                                                                                                                                                                                                                                                           lyrics_cleaned\n",
            "0                                                                                                                                                                                                                                                                                          foaie verde ca lipanul foaie verde ca lipanul ofof de trei ori păscumi calul leana mea ca să urc la mândra dealul leano refren ine doamne vara lungă cât mai am paralen pungă ca sămi pun șaua pe cal să mă duc la mândran deal bis x urcai dealul jumătate urcai dealul jumătate ofof pierdui potcoavele toate leana mea pierdui potcoavele toate leano refren ine doamne vara lungă cât mai am paralen pungă ca sămi pun șaua pe cal să mă duc la mândran deal bis x nu e vina calului măi nici a potcovarului ofof dar îi vina mândrei mele leana mea ca pus casan dealuri grele leano refren ine doamne vara lungă cât mai am paralen pungă ca sămi pun șaua pe cal să mă duc la mândran deal bis x nu e vina nici a ei măi nu e vina nici a ei ofof dar îi vina tot a mea măi leana mea că prea des mă duc la ea măi leano refren ine doamne vara lungă cât mai am paralen pungă ca sămi pun șaua pe cal să mă duc la mândran deal bis x \n",
            "1  poți săți alegi un loc în lume săți trăiești viața ta dar părinții și vecinii nui alege nimenea dar părinții și vecinii nui alege nimenea poți avea palat ori casă cu fântâna lângă drum nu e viața ta frumoasă dacă nai vecinul bun nu e viața ta frumoasă dacă nai vecinul bun refren omule străin azi îmi ești vecin nu turna pelin măi sănchinăm un vin om la poartă el sădește nai invidie nici fir hărnicia vă unește tu sădești un trandafir hărnicia vă unește tu sădești un trandafir omul crește și rodește trandafirul îl miroși omenia dăinuiește la vecinii cei frumoși omenia dăinuiește la vecinii cei frumoși refren omule străin azi îmi ești vecin nu turna pelin măi sănchinăm un vin viața ta e mai frumoasă crede omule ceți spun de luminăi plină casa dacă ești vecinul bun de luminăi plină casa dacă ești vecinul bun de nevoi nu vă mai pasă creștinește faceți tot și la sărbători la masă are tot vecinul loc refren omule străin azi îmi ești vecin nu turna pelin măi sănchinăm un vin refren final omule străin ca frații să fim să ne întâlin măi  o viață trăim versuri  petre popa versuri  petre popa de ce nicăieri nu se menționează nu e cântec popular simplu bună o să menționăm cu mare drag \n",
            "2                                                                                                                                                                                                                                                                                                                                                                                                                                                                                      măi bărbate fii cuminte măi bărbate fii cuminte ia cânepa și mio vinde ia cânepa și mio vinde și mio vinde mai cu preț măi și mio vinde mai cu preț măi că eu lunea nu lucrez că eu lunea nu lucrez măi marți îi zi de sărbătoare marți îi zi de sărbătoare miercuri iaca cum mă doare miercuri iaca cum mă doare joi e ziua de ghioace joi e ziua de ghioace vineri nică nu se face vineri nică nu se face sâmbătă mă spăl pe cap măi sâmbătă mă spăl pe cap măi duminicăi horăn sat duminicăi horăn sat măi duminicăi horăn sat măi duminicăi horăn sat măi de băut și de mâncat de băut și de mâncat măi săptămâna o trecut măi săptămâna o trecut măi și eu nică nam făcut și eu nică nam făcut măi și eu nică nam făcut și eu nică nam făcut \n",
            "3                                                                                                                                                                                                                                                                                                                                                                                                                                                                                                                                                                                                                                                                                                                                              frunzuliță iasomie astă horămi place mie bis x de micuță am jucat cum muma mo învățat și se joacă penserat fiindcăi sărbătoaren sat bis x cântă fete sprâncenate cu flăcăi din multe sate zii cobzare zii cu foc cu drag să intrăm în joc zii scripcare zii cu foc cu drag să intrăm în joc hora să se facă roată can hora de altă dată nici moșnegii nu se lasă strigă babele de acasă bis x să vină la hora mare în haine de sărbătoare căi horă moldovenească toată lumea să poftească \n",
            "4                                                                                                                                                                                                                                                                                                                                                                                                                                                                                                                                                                                                                                                    eus în deal și badean șesu eus în deal și badean șesu și mil cunosc după mersu și mil cunosc după mersu că mere gândești că scrie că mere gândești că scrie ca țăruza pe hârtie ca țăruza pe hârtie și îi mersu legănatu și îi mersu legănatu cu dragoste amestecatu cu dragoste amestecatu badeo spiculeț de grâu badeo spiculeț de grâu mult am vrut să nu te știu mult am vrut să nu te știu că de când te știu pe tine că de când te știu pe tine numi trebuie altun lume numi trebuie altun lume numai tu bădițo tu numai tu bădițo tu altul bade nu și nu altul bade nu și nu \n",
            "\n",
            "dupa ce dam replace la bis si chestii de genu\n",
            "                                                                                                                                                                                                                                                                                                                                                                                                                                                                                                                                                                                                                                                                                                                                                                                                                                                                                                                                                                                                                                                                                                                                                                                     lyrics_cleaned\n",
            "0                                                                                                                                                                                                                                                                                                foaie verde ca lipanul foaie verde ca lipanul ofof de trei ori păscumi calul leana mea ca să urc la mândra dealul leano  ine doamne vara lungă cât mai am paralen pungă ca sămi pun șaua pe cal să mă duc la mândran deal  urcai dealul jumătate urcai dealul jumătate ofof pierdui potcoavele toate leana mea pierdui potcoavele toate leano  ine doamne vara lungă cât mai am paralen pungă ca sămi pun șaua pe cal să mă duc la mândran deal  nu e vina calului măi nici a potcovarului ofof dar îi vina mândrei mele leana mea ca pus casan dealuri grele leano  ine doamne vara lungă cât mai am paralen pungă ca sămi pun șaua pe cal să mă duc la mândran deal  nu e vina nici a ei măi nu e vina nici a ei ofof dar îi vina tot a mea măi leana mea că prea des mă duc la ea măi leano  ine doamne vara lungă cât mai am paralen pungă ca sămi pun șaua pe cal să mă duc la mândran deal  \n",
            "1  poți săți alegi un loc în lume săți trăiești viața ta dar părinții și vecinii nui alege nimenea dar părinții și vecinii nui alege nimenea poți avea palat ori casă cu fântâna lângă drum nu e viața ta frumoasă dacă nai vecinul bun nu e viața ta frumoasă dacă nai vecinul bun  omule străin azi îmi ești vecin nu turna pelin măi sănchinăm un vin om la poartă el sădește nai invidie nici fir hărnicia vă unește tu sădești un trandafir hărnicia vă unește tu sădești un trandafir omul crește și rodește trandafirul îl miroși omenia dăinuiește la vecinii cei frumoși omenia dăinuiește la vecinii cei frumoși  omule străin azi îmi ești vecin nu turna pelin măi sănchinăm un vin viața ta e mai frumoasă crede omule ceți spun de luminăi plină casa dacă ești vecinul bun de luminăi plină casa dacă ești vecinul bun de nevoi nu vă mai pasă creștinește faceți tot și la sărbători la masă are tot vecinul loc  omule străin azi îmi ești vecin nu turna pelin măi sănchinăm un vin  final omule străin ca frații să fim să ne întâlin măi  o viață trăim   petre popa   petre popa de ce nicăieri nu se menționează nu e cântec popular simplu bună o să menționăm cu mare drag \n",
            "2                                                                                                                                                                                                                                                                                                                                                                                                                                                măi bărbate fii cuminte măi bărbate fii cuminte ia cânepa și mio vinde ia cânepa și mio vinde și mio vinde mai cu preț măi și mio vinde mai cu preț măi că eu lunea nu lucrez că eu lunea nu lucrez măi marți îi zi de sărbătoare marți îi zi de sărbătoare miercuri iaca cum mă doare miercuri iaca cum mă doare joi e ziua de ghioace joi e ziua de ghioace vineri nică nu se face vineri nică nu se face sâmbătă mă spăl pe cap măi sâmbătă mă spăl pe cap măi duminicăi horăn sat duminicăi horăn sat măi duminicăi horăn sat măi duminicăi horăn sat măi de băut și de mâncat de băut și de mâncat măi săptămâna o trecut măi săptămâna o trecut măi și eu nică nam făcut și eu nică nam făcut măi și eu nică nam făcut și eu nică nam făcut \n",
            "3                                                                                                                                                                                                                                                                                                                                                                                                                                                                                                                                                                                                                                                                                                                       frunzuliță iasomie astă horămi place mie  de micuță am jucat cum muma mo învățat și se joacă penserat fiindcăi sărbătoaren sat  cântă fete sprâncenate cu flăcăi din multe sate zii cobzare zii cu foc cu drag să intrăm în joc zii scripcare zii cu foc cu drag să intrăm în joc hora să se facă roată can hora de altă dată nici moșnegii nu se lasă strigă babele de acasă  să vină la hora mare în haine de sărbătoare căi horă moldovenească toată lumea să poftească \n",
            "4                                                                                                                                                                                                                                                                                                                                                                                                                                                                                                                                                                                                              eus în deal și badean șesu eus în deal și badean șesu și mil cunosc după mersu și mil cunosc după mersu că mere gândești că scrie că mere gândești că scrie ca țăruza pe hârtie ca țăruza pe hârtie și îi mersu legănatu și îi mersu legănatu cu dragoste amestecatu cu dragoste amestecatu badeo spiculeț de grâu badeo spiculeț de grâu mult am vrut să nu te știu mult am vrut să nu te știu că de când te știu pe tine că de când te știu pe tine numi trebuie altun lume numi trebuie altun lume numai tu bădițo tu numai tu bădițo tu altul bade nu și nu altul bade nu și nu \n",
            "\n"
          ]
        }
      ]
    },
    {
      "cell_type": "code",
      "source": [
        "pd.set_option('display.max_colwidth', None)\n",
        "print(df[['lyrics_cleaned']].sample(5))"
      ],
      "metadata": {
        "colab": {
          "base_uri": "https://localhost:8080/"
        },
        "id": "noBaywB3LzP6",
        "outputId": "ce8789c5-42d1-44bd-9cc9-1c4a0707bb37"
      },
      "execution_count": 47,
      "outputs": [
        {
          "output_type": "stream",
          "name": "stdout",
          "text": [
            "                                                                                                                                                                                                                                                                                                                                                                                                                                                                                                                                                                                                                                                                                                                                                                                                                                                                                                                                                                                                                                                                                                                                                                                                                                                                                                                                                                                                                                                                                                                                                                                                                                                                                                                                                                                                                                                                                                                                                                                                                                                                                                                                                                                                                                                                                                                                                                                                                                                                                                                                                                                                                                                                                                                                                                                                                                                                                                                                                                                                                                                                                                                                                                                                                                                                                                                                                                                                                                                                                                                                                                                                                                                                                                                                                                                                     lyrics_cleaned\n",
            "5465                                                                                                                                                                                                                                                                                                                                                                                                                                                                                                                                                                                                                                                                                                                                                                                                                                                                                                                                                                                                                                                                                                                                                                                                                                                                                                                                                                                                                                                                                                                                                                                                                                                                                                                                                                                                                                                                                                                                                                                                                                                                                                                                                                                                                                                                                                                                                                                                                                                                    abi se lasă ușor în jos îmi zice că mă vrea îmi zice că mă vrea îmizicecă mă vrea zicecăi cuminte da de fapt ecea mai rea yeah yeah    abi se lasă ușor în jos îmi zice că mă vrea și se așeaza pe mine de parcă sunt canapea yeah zice căi cuminte da de fapt e cea mai rea yeah iam zis că mai mult de o ora nu o să stau cu ea hey abi nare timp de ea   abi nu mai dorm diseară pentru că e vară cel mai popular din țară da și ea e populară are corp de kylie jenner și tupeu de cardi b a fost cu mulți băieți dar niciunul na fost abi    abi și seamănă cu nicole cherry cu mine are fantezii și are chef doar de prostii uh rolexui douăzeci de mii ce are in picioare oare papuci gucci mi se pare mam născut să dau teroare teroare bridge abi și are chef de abi iiiiii facem numai prostii iiiiii    dorian popa are pielea fină îi place la piscină pentru ea sunt vitamină dar nu nu sunt eu de vină că nare timp de ea popa nare timp de ea nici măcar de un suc nici măcar de o cafea poate dacă vii cu prietena ta poate ai noroc cu abi si popa   abi nu mai dorm diseară pentru că e vară cel mai popular din țară da și ea e populară are corp de kylie jenner și tupeu de cardi b a fost cu mulți băieți dar niciunul na fost abi  outro abi și are chef de abi iiiiii facem numai prostii iiiiii și are chef de abi\n",
            "335                                                                                                                                                                                                                                                                                                                                                                                                                                                                                                                                                                                                                                                                                                                                                                                                                                                                                                                                                                                                                                                                                                                                                                                                                                                                                                                                                                                                                                                                                                                                                                                                                                                                                                                                                                                                                                                                                                                                                                                                                                                                                                                                                                                                                                                                                                                                                                                                                                                                                                                                                                                         kazi ploae întrun joc nejucat fur destinului pai pe tăcute mereu pentru sufletul meu întrun joc nejucat fur destinului pai atâta zgomot e rău pentru sufletul tău    kazi ploae adesea mecanic atins de aripa unui pheonix stupid între pământeni palid e vraja visurilor noastre contrastând cu cătuele de diamant ereditar degete de evantai stai calm nare sens să teagii tic tac mori încet nu tiai    dragonu cicicine poa sămi zică încotro sendreaptă lumea asta mică viaă pare lungă dar e doar o clipă i la sfârit sper să nu ne fie frică că tot ce faci plăteti ca toi cei dragi pălesc nu eti în stare să vorbeti să faci un gest firesc să zici in cap trăiesc uităten jur ce vezi e un miracol imens da tu vezi un spectacol pervers   bean undeva pe wikipedia sub poza lui țuțea ai să găseti interesant unde se duce mintea mam tot întrebat pe înelesul meu că eu înteleg mai greu am dat de paradox kazi ii zice dumnezeu chiar si beatul ăstai paradox e comprimat e rupt dar îi place îl supori jumătate pentru vii jumătate pentru mori   kazi ploae întrun joc nejucat furi destinului pai pe tăcute mereu pentru sufletul meu  outro kazi ploae zgomot zgomot zgomot zgomot pentru sufletul tău\n",
            "6579                                                                                                                                                                                                                                                                                                                                                                                                                                                                                                                                                                                                                                                                                                                                                                                                                                                                                                                                                                        yny sebi cei mai haladiți copii așami numesc eu fanii dau tare viteză târfo zimi enzo ferrari îmi iubesc mult tare fanii dar și dușmanii nam eu timp de probleme hai dă drumu la șampanii cei mai haladiți copii așami numesc eu fanii dau tare viteză târfo zimi enzo ferrari îmi iubesc mult tare fanii dar și dușmanii nam eu timp de probleme hai dă drumu la șampanii    petre ștefan te iubesc tată mai învățat să fac singur banii când tu erai plecat pe afară mau crescut golanii da mama ma învățat de respect deci nu mă fac banii nu mă iubeau nici frații acum mă plac și dușmanii    yny sebi yny sebi panaramo eu nu mă compar cu voi yny sebi panaramo eu sunt șmecher nus smardoi a născut mama doar unul dar eu crd că fac cât doi dacă șio caută prostu dau apel și e război margiela în picoar am baieți cu dosare cu bricege topoare gata să vă omoare vă ia pe fiecare oare oare oare eu nu stau sa mă bat vă dau din vorbe teroare mor astea după mine mor toate după mine roagăte la moșu să devii și tu ca mine și dansez dansez când mă simt bine blugii îi țin în vine nu te compari cu mine   petre ștefan poți fugi dar nu te poți ascunde cocalarii din tei fug după tine îți sunt pe urme vă complicați prea mult aveți arfe vorbiți de lume de aia vă luați bătaie si scapați doar când dați sume   yny sebi petre ștefan cei mai haladiți copii așami numesc eu fanii dau tare viteză târfo zimi enzo ferrari îmi iubesc mult tare fanii dar și dușmanii nam eu timp de probleme hai dă drumu la șampanii cei mai haladiți copii așami numesc eu fanii dau tare viteză târfo zimi enzo ferrari îmi iubesc mult tare fanii dar și dușmanii nam eu timp de probleme hai dă drumu la șampanii    yny sebi multe îmi dau mesaje multe stau pe capul meu am o suta de femei da nam dat pe vreuna un leu nam talent împrumutat e de la dumnezeu zimi tzanca uraganu e valoros numele meu vreau să o iau de nevastă pe una cu mult tupeu să aibă tatuaj pe mană direct cu numele meu daca naș crede în mine pot să zic că sunt ateu nu mă înjura pe net că fațăn față nai tupeu mau vorbit prea multe pizde că leam lăsat supărate ofticate că nu mai am timp de stat sunt original băi târfo numi place să mă prefac  întrun m bag viteza și am plecat   petre ștefan șapcă întoarsăn cap cearcăne pe față cagulă pe hanorac mau vorbit prea multe pizde că leam pus capac lasămă fă am nevastă nu vezi nu te plac   yny sebi petre ștefan cei mai haladiți copii așami numesc eu fanii dau tare viteză târfo zimi enzo ferrari îmi iubesc mult tare fanii dar și dușmanii nam eu timp de probleme hai dă drumu la șampanii cei mai haladiți copii așami numesc eu fanii dau tare viteză târfo zimi enzo ferrari îmi iubesc mult tare fanii dar și dușmanii nam eu timp de probleme hai dă drumu la șampanii\n",
            "6340                                                                                                                                                                                                                                                                                                                                                                                                                                                                                                                                                                                                                                                                                                                                                                                                                                                                                                                                                                                                                                                                                                                                                                                                                                                                                                                                                                                                                                                                                                                                                                                                                                                    mă tot abțin și îmi impun să simt cu porția fiindcă știu că par copil atunci când numi reprim emoția da asta sunt știu căs o specie eșuată șiatunci când ea vrea baby steps eu vreau săi dau totu deodată numi place să ontreb ce faci că știu că orice facemi place vreau doar să știu ea cum se simte și ce binei stă brunetă sau blondă sau șatenă sau roșcată ce fată  interlude era o fată bună mă cheamă cojo mamami spune și andrei scuze sper să nu sune ciudat dar știai că în  antonio meucci a inventat telefonul dar na avut bani săl patenteze și  de ani mai târziu graham bell a făcut același lucru iar acum toată lumea spune că el la inventat nui așa că e ciudat scuze chestia e că voiam doar să te întreb ai idee de atunci și până acum de câtă informație am avut nevoie și cât timp a trebuit să treacă până sămi fac curaj să vin la tine săți cer numărul de telefon și a zâmbit un pic ciudat și mi la dat   simt mult prea mult șiaș vrea săi descriu pe deplin dar nu mia mers prea bine atunci și deastacum mă tot abțin e prea devreme săi spun fii bărbat să nu tenmoi aș vrea să nui mai zic pe nume aș vrea săi zic pisoi tearunci din nou mabțin simi plesnește inima da sincer încep să cred caici vina nui doar a mea când eram mic și mă bătea tata căl umpleam de draci venea după șimi spunea te iubește tati să nu mai faci un pic retard emoțional mă tot abțin aș vrea când râd să nu mă controlez aș vrea să râd ca un copil aș vrea să îi răspund când văd mesaju imediat aș vrea să nu par ocupat doar ca să nu par disperat aș vrea să stau să o cunosc mai bine și sontârzii cât de mult pot paia cu hai pe la mine căn toată graba asta obscenă emoțional mam reprimat mia zis cineva când te dezbraci fantezia sancheiat la câte simt prefer să tac și te inhibă la cât mam abținut am dezvoltat ceva tui spui carismă și când mă privești cumva și știu că te gândești la sex aș vrea să nu mă mai abțin caș prefera săți spun doar că te te plac atât de mult outro nici nu mai știu cum se spune mă tot abțin deci nu știu dacă mio induc sau daco simt pe bune nu mai vreau să mă abțin mă tot abțin\n",
            "1626  hook doc mâinile sus poliția rap aruncă micu acum oprește tracku  nu nu te opune nai cum mâinile sus poliția rap tu vii cu noi ăștia ca tine sunt falși doar ambalaj și devin gunoi mâinile sus poliția rap aruncă micu acum oprește tracku  nu nu te opune nai cum mâinile sus poliția rap tu vii cu noi ăștia ca tine sunt falși doar ambalaj și devin gunoi    doc am zis mainile sus politia rap arunca pixu nu te misca brusc suntem multi parcal vanam pe jigsaw team auzit nu e talent eastbay dai multe  chixuri sper ca masculti atent bai pestisor de maximixuri scuip impertinent si asta inerent implica riscuri spunei djului tău so ardă atlet sarunce discul fii atent ai dreptul sa taci si o sa masigur co so faci si  aia noua de te rupen doua sigur no so bagi hai bagal in duba ca altfel îi dau sa sara mă supără îl fac praf îl trag pe nară nu mai suport nu mai pot pot sergentii mei astia nu mai mor cauta dovezi beaturi texte uita după cum vezi și titlul este tradus iam spus a pus gunoiul si ea saren aer ca fasterszic   aforic mainile sus politia rap aruncati micu mainile sus pozitia drepti hai dute dracu cu trupa cu tot nu va mai sufar deloc emite leagan nu va suport deja imi futeti tracku si dupa catuse de  ori foc cenuse electrosoc pentru sezut genunchii si nus vreo matuse cine a zis sectorul romanesc hotii se simt si stiu ca le vorbesc in rest nu ma opresc cred ca turbez daca aud sau sesizez inca un furt nu ma mai joc nu ma incurc va iau pe toti pe rand sio sa va ft acum sunt rupt cu legumele cu toate albumele si glumele zimi numele am foc  hook doc mâinile sus poliția rap aruncă micu acum oprește tracku  nu nu te opune nai cum mâinile sus poliția rap tu vii cu noi ăștia ca tine sunt falși doar ambalaj și devin gunoi mâinile sus poliția rap aruncă micu acum oprește tracku  nu nu te opune nai cum mâinile sus poliția rap tu vii cu noi ăștia ca tine sunt falși doar ambalaj și devin gunoi    deliric yo toata lumea drepti e generalu del de la capitala am venit in inspectie ziceai cai full la show vad sala goala toatai cardeala nasoala dami sa vad ceai pus pe coala stai sa aud ceai dat pe goarna care minte care toarna care scuipa bine de tot scapa cu bine de mine nu pot sa te las sa treci cami esti nepot sau cati pui femeia sami faca bot probleme la articulat ma doaren cot nu ma coafeaza nui vreun drog iti trebe bile maren chilot astai sport cine gafeaza iese din lot ca altfel nu se face toc poc cine poate sa scuipen joc foc asta nui vreo treaba de noroc tre sa poti sa vii blana ca un cojoc la faima nuti pierde capu ca motoc ca dupa aia te prind baietii si tiontorc si cum tea vazut vlab tio coc e politia rap la usa cioc cioc   rimaru mainile sus da nu mai sus de umar ca doctore iti iei grav taca de fapt uitat in faptin plin rap de hip hop politia rap iti taie fatan fata garii de nord rrs in fata scarii de tot defatat la fata de ramai daramat de tot atatea mui is pedofili sunt puscarii renunt complet la feronii cu toto micuri compasuri show in subsoluri ganduri fur si grafu treci napoi grav hai zimi ca esti bagat in raft si scapi de drag ca nu mai faci dateazate in autograf de acum esti ilegal pe scena chin vrei sa mai scrii sa nu te prind ineptii cati iau firul tu parti  si poti continua sa piratezi sa ne comentezi sa te inflamezi dar nu poti sa faci rap ca te arestez  hook doc mâinile sus poliția rap aruncă micu acum oprește tracku  nu nu te opune nai cum mâinile sus poliția rap tu vii cu noi ăștia ca tine sunt falși doar ambalaj și devin gunoi mâinile sus poliția rap aruncă micu acum oprește tracku  nu nu te opune nai cum mâinile sus poliția rap tu vii cu noi ăștia ca tine sunt falși doar ambalaj și devin gunoi\n"
          ]
        }
      ]
    },
    {
      "cell_type": "code",
      "source": [
        "\n",
        "nlp = spacy.load(\"ro_core_news_sm\")\n",
        "\n",
        "stopwords = nlp.Defaults.stop_words\n",
        "df['lyrics_cleaned'] = df['lyrics_cleaned'].apply(lambda x: ' '.join([word for word in x.split() if word not in stopwords]))\n",
        "print()\n",
        "print(\"dupa ce am sters stop words\")\n",
        "pd.set_option('display.max_colwidth', None)\n",
        "print(df[['lyrics_cleaned']].head())\n",
        "#df['lyrics_cleaned'] = df['lyrics_cleaned'].apply(lambda x: ' '.join([token.lemma_ for token in nlp(x)]))\n",
        "print()\n",
        "# df = df[df['lyrics_cleaned'].str.split().str.len() > 5]\n",
        "\n",
        "\n",
        "\n"
      ],
      "metadata": {
        "colab": {
          "base_uri": "https://localhost:8080/"
        },
        "id": "qxq9vz5cFgi8",
        "outputId": "3e6a5966-f83f-4387-f4e1-c770c6976bb8"
      },
      "execution_count": 48,
      "outputs": [
        {
          "output_type": "stream",
          "name": "stdout",
          "text": [
            "\n",
            "dupa ce am sters stop words\n",
            "                                                                                                                                                                                                                                                                                                                                                                                                                                                                                                                                                                                                                                                                                                                                                                                                                                                           lyrics_cleaned\n",
            "0                                                                                                                                                                                                                                         foaie verde lipanul foaie verde lipanul ofof păscumi calul leana urc mândra dealul leano ine doamne vara lungă paralen pungă sămi pun șaua cal duc mândran deal urcai dealul jumătate urcai dealul jumătate ofof pierdui potcoavele leana pierdui potcoavele leano ine doamne vara lungă paralen pungă sămi pun șaua cal duc mândran deal vina calului măi potcovarului ofof vina mândrei leana pus casan dealuri grele leano ine doamne vara lungă paralen pungă sămi pun șaua cal duc mândran deal vina măi vina ofof vina măi leana des duc măi leano ine doamne vara lungă paralen pungă sămi pun șaua cal duc mândran deal\n",
            "1  poți săți alegi loc lume săți trăiești viața părinții vecinii nui alege nimenea părinții vecinii nui alege nimenea poți palat casă fântâna drum viața frumoasă nai vecinul bun viața frumoasă nai vecinul bun omule străin vecin turna pelin măi sănchinăm vin om poartă sădește nai invidie fir hărnicia unește sădești trandafir hărnicia unește sădești trandafir omul crește rodește trandafirul miroși omenia dăinuiește vecinii frumoși omenia dăinuiește vecinii frumoși omule străin vecin turna pelin măi sănchinăm vin viața frumoasă crede omule ceți spun luminăi plină casa vecinul bun luminăi plină casa vecinul bun nevoi pasă creștinește faceți sărbători masă vecinul loc omule străin vecin turna pelin măi sănchinăm vin final omule străin frații întâlin măi viață trăim petre popa petre popa menționează cântec popular simplu menționăm drag\n",
            "2                                                                                                                                                                                                                                                                                                           măi bărbate cuminte măi bărbate cuminte cânepa mio vinde cânepa mio vinde mio vinde preț măi mio vinde preț măi lunea lucrez lunea lucrez măi marți sărbătoare marți sărbătoare miercuri iaca doare miercuri iaca doare joi ziua ghioace joi ziua ghioace vineri nică vineri nică sâmbătă spăl cap măi sâmbătă spăl cap măi duminicăi horăn sat duminicăi horăn sat măi duminicăi horăn sat măi duminicăi horăn sat măi băut mâncat băut mâncat măi săptămâna trecut măi săptămâna trecut măi nică nam făcut nică nam făcut măi nică nam făcut nică nam făcut\n",
            "3                                                                                                                                                                                                                                                                                                                                                                                                                                                                                                                frunzuliță iasomie astă horămi place micuță jucat muma mo învățat joacă penserat fiindcăi sărbătoaren sat cântă fete sprâncenate flăcăi sate zii cobzare zii foc drag intrăm joc zii scripcare zii foc drag intrăm joc hora facă roată can hora altă moșnegii lasă strigă babele acasă vină hora haine sărbătoare căi horă moldovenească lumea poftească\n",
            "4                                                                                                                                                                                                                                                                                                                                                                                                                                                                                                                         eus deal badean șesu eus deal badean șesu mil cunosc mersu mil cunosc mersu mere gândești scrie mere gândești scrie țăruza hârtie țăruza hârtie mersu legănatu mersu legănatu dragoste amestecatu dragoste amestecatu badeo spiculeț grâu badeo spiculeț grâu vrut vrut numi trebuie altun lume numi trebuie altun lume bădițo bădițo bade bade\n",
            "\n"
          ]
        }
      ]
    },
    {
      "cell_type": "code",
      "source": [
        "pd.set_option('display.max_colwidth', None)\n",
        "print(df[['lyrics_cleaned']].sample(5))\n"
      ],
      "metadata": {
        "colab": {
          "base_uri": "https://localhost:8080/"
        },
        "id": "husI6TqDGC_n",
        "outputId": "7387afc2-0fc4-4778-8e3f-02c45252db52"
      },
      "execution_count": 45,
      "outputs": [
        {
          "output_type": "stream",
          "name": "stdout",
          "text": [
            "                                                                                                                                                                                                                                                                                                                                                                                                                                                                                                                                                                                                                                                                                                                                                                                                                                                                                                                                                                                                                                                                                                                                                                                                                                                                                                                                                                                                                                                                                                                                                                                                                                                                                                                                                                                                                                                                                     lyrics_cleaned\n",
            "7025                                                                                                                                                                                                                                                                                                                                                                                                                                                                                                                                                                                                                                                              pornește televizoru cale sănceapă showu groasă stakeu vită întâmplă intrigă wok ochi dinte dinte prietenie chefi cutite tensiunea crește presiunea crește battleul începe temperatura crește regula supraviețuiește gătește gătște casta căleșt iao pă ceapă curăță toacă cartofu punel fiarbă grijă carnea vezi ardă fă sos uita salată cooking show bucătăriai grea totui rapid express asia rămân amatorii pleacă bucătarii poți chef surpriză kani funny zanni grijă pașii ține timing grijă psihic teai dus acasă gust cred esti zeu food styling rămân ciorba pleci fine dining pornește televizoru cale sănceapă showu groasă stakeu vită întâmplă intrigă wok ochi dinte dinte prietenie chefi cutite chefi cutite grijă concurenți scoată râd față interviu sapă rău stradă no bată ardă focuri australia crește cota paria grijă duel vere faci spume belei plânge țipă cade pare căs ceri ajutoru jale lumea sare saren mâncare homar pilaf cârnat mujdei picioare crab poți primu slab luat plecat coi gătit stele michellin șin restaurante fita bucataru lu saint jaques tea facut tocaniță pornește televizoru cale sănceapă showu groasă stakeu vită întâmplă intrigă wok ochi dinte dinte prietenie chefi cutite\n",
            "3669                                                                                                                                                                                                                                                                                                                                                                                                                                                                                                                                                                                                                                                                                                                                                                                                                                                                                                                                                                                                                                                                                                                                                                                                                                                                                                                                                                                                        cateva sute mii sute mii locul gresim gang yeah shiba gang yeah trend yeah shiba trend yeah caine cuțu shiba imnu caine cuțu shiba imnu facut baita uita blanita codita frate place fetita oh ritmul pedigree sute mii cheama prietenii live insanity subscribe like vibe seara live fortnite share comentariu fac salariul seara live fortnite cateva sute mii sute mii locul gresim gang yeah shiba gang yeah trend yeah shiba trend yeah caine cuțu shiba imnu caine cuțu shiba imnu\n",
            "8072  marko glass totu fly place totu vibe rolele ajung acasă tonight călca peun staif xanny cristal white sună vorbim vorbesc nam totu fly place totu vibe rolele ajung acasă tonight călca peun staif xanny cristal white sună vorbim vorbesc nam marko glass air force picioare albe fresh vezi mergi vreau creaseuiesti zboară ochii shawty on my dick scot plimbare scuzămă holbez totu fly place vibe rolele fumez acasă tonight vorbesc fostele ok alright nam obosesc banii vorbesc daia nai grai contează ziceai seară astai fain vreau stau chilluiesc pahar jack limes tipă privesc zână fată vise vrea ajut sigur offline marko glass totu fly place totu vibe rolele ajung acasă tonight călca peun staif xanny cristal white sună vorbim vorbesc nam totu fly place totu vibe rolele ajung acasă tonight călca peun staif xanny cristal white sună vorbim vorbesc nam bvcovia chillesc datorie bag pill vrea so scot plimbare cred duc medellin trimiteo poză goală naș vrea las seen răspund plec co treaba rămâne vorbim rămâne vorbim așterne patul trec fracsu iau acasă tacsu plimb anturajul ține nasul ține tipa rupe dansul ține glume vede căi place hazu rujul roșu poartă tricou albastru grăbește nui pasă ceasu marko glass totu fly place totu vibe rolele ajung acasă tonight călca peun staif xanny cristal white sună vorbim vorbesc nam totu fly place totu vibe rolele ajung acasă tonight călca peun staif xanny cristal white sună vorbim vorbesc nam petre stefan bani iei vibeul provoci stres vreau vorbim văd enervez amintiri răscolesc coșmaruri noaptea visez trăiesc visu trecut gândesc costum cavalli sare clubul intru ușă tipă sulfetul rău chip păpușă lasă semne corpul obsedată mușcă crede iau acasă seară rămâne tușă vedem no chem întâlnim întâmplător moncher vrea bem citesc priviri vrea so facem dependentă petre ștefan știe căs fenomen\n",
            "7920                                                                                                                                                                      killa fonic vavavalorant drip spunemi valoare skill fug tiptil solo team cardio respiro bombe abis punemi numele mvp boy clipi fetele naplaudă bat rău shit glonț ah calibru mic ah câștig teren fac ah victorios iam rupt ah vavavalorant drip spunemi valoare skill fug tiptil solo team cardio respiro roxen valorez milion jucători scor yeah rank rank eliminat gloanțe tort yeah trec pericol mar vedea adrenalină focus total apăs trăgaci killa fonic valo valo fato team facem prăpăd fato follow follow camaradul fato căpitan phoenix căpitan jett iato roxen valorez milion jucători scor yeah rank rank eliminat gloanțe tort yeah separă fapt unește gloanțele simt simți victoria killa fonic vavavalorant drip spunemi valoare skill fug tiptil solo team cardio respiro bombe abis punemi numele mvp boy clipi fetele naplaudă bat rău shit glonț ah calibru mic ah câștig teren fac ah victorios iam rupt ah vavavalorant drip spunemi valoare skill fug tiptil solo team cardio respiro killa fonic sentinel sentinel sentinel trag lovesc sentiment impactul clar iminent oponenți par leviteeeez revoir pușca fancy hah fac frumușel luptă cucerim nordul sudul tremură pistoale purtător toomtoomtoom gloanțe oponenți ratez hahahahahaha schimb maguri repede trag trancan full auto gragragragragragra yeah on and on înving înving tare revin yeah on and on team nai atingi noul skin killa fonic vavavalorant drip spunemi valoare skill fug tiptil solo team cardio respiro bombe abis punemi numele mvp boy clipi fetele naplaudă bat rău shit glonț ah calibru mic ah câștig teren fac ah victorios iam rupt ah vavavalorant drip spunemi valoare skill fug tiptil solo team cardio respiro\n",
            "8224                                                                                                                                                                                                                                                                                                                                                                                                                                                                                                                 yeah yeah juru fețe navem discuta nus cantități imense kerosen capu gata decoleze frații vin decât bani făle teste târfe vecinii mau luat pește șpiț cur dăm picioare luăm ciocu mic capun față joacă glezne dulceață prafuri fabrica nestle strofă încep turui termin pahar bumbu simt mâini gradel kelvin deschid ușa poarta cheamă kvin ajung vreau știți vrăjitor merlin blugii amiri rupți cur înseamnă denim supărat ceam ceo devin supărat ceaveam vam zis revin bagi căcat întruna botu bagă rece place joaca danseazăn pulă shakira waka waka strâmbe scoți află spargem moaca strâmbe scoți toarnă gata schimbă placa creden desene nus anime manga bat abătut fumează paie bagă boaba gagicăta ochi mint pleacă văd brigada picăn față caca fața țio traduc înseamnă nada flow nebun moară tata muie garda fute gratis fumează cioata fac muzică băieți hata yeah trage pânăți cade glanda căcat om funny glumă râde poanta sânge trotuar vine mopu spală pata mâini can filme zici căi timbre waha gorile bape ard gorilă fake nam frâne break sar capu skate apăs diez nate bat hate momeală spunei bait greu nui vorba weight juru fețe navem discuta nus cantități imense kerosen capu gata decoleze frații vin decât bani făle teste târfe vecinii mau luat pește șpiț cur dăm picioare luăm ciocu mic capun față joacă glezne dulceață prafuri fabrica nestle\n"
          ]
        }
      ]
    },
    {
      "cell_type": "code",
      "source": [
        "df_cleaned = df[['lyrics_cleaned']]\n",
        "\n",
        "df_cleaned.to_csv(\"romanian_music_cleaned_only_lyrics.csv\", index=False, encoding=\"utf-8\")\n",
        "\n"
      ],
      "metadata": {
        "id": "05S-hSueRhhl"
      },
      "execution_count": 52,
      "outputs": []
    },
    {
      "cell_type": "code",
      "source": [
        "from google.colab import files\n",
        "files.download(\"romanian_music_cleaned_only_lyrics.csv\")\n"
      ],
      "metadata": {
        "colab": {
          "base_uri": "https://localhost:8080/",
          "height": 17
        },
        "id": "c7JNIFkgSOZO",
        "outputId": "55f04a55-a5d5-4fec-dd6c-6777e5f18ef9"
      },
      "execution_count": 53,
      "outputs": [
        {
          "output_type": "display_data",
          "data": {
            "text/plain": [
              "<IPython.core.display.Javascript object>"
            ],
            "application/javascript": [
              "\n",
              "    async function download(id, filename, size) {\n",
              "      if (!google.colab.kernel.accessAllowed) {\n",
              "        return;\n",
              "      }\n",
              "      const div = document.createElement('div');\n",
              "      const label = document.createElement('label');\n",
              "      label.textContent = `Downloading \"${filename}\": `;\n",
              "      div.appendChild(label);\n",
              "      const progress = document.createElement('progress');\n",
              "      progress.max = size;\n",
              "      div.appendChild(progress);\n",
              "      document.body.appendChild(div);\n",
              "\n",
              "      const buffers = [];\n",
              "      let downloaded = 0;\n",
              "\n",
              "      const channel = await google.colab.kernel.comms.open(id);\n",
              "      // Send a message to notify the kernel that we're ready.\n",
              "      channel.send({})\n",
              "\n",
              "      for await (const message of channel.messages) {\n",
              "        // Send a message to notify the kernel that we're ready.\n",
              "        channel.send({})\n",
              "        if (message.buffers) {\n",
              "          for (const buffer of message.buffers) {\n",
              "            buffers.push(buffer);\n",
              "            downloaded += buffer.byteLength;\n",
              "            progress.value = downloaded;\n",
              "          }\n",
              "        }\n",
              "      }\n",
              "      const blob = new Blob(buffers, {type: 'application/binary'});\n",
              "      const a = document.createElement('a');\n",
              "      a.href = window.URL.createObjectURL(blob);\n",
              "      a.download = filename;\n",
              "      div.appendChild(a);\n",
              "      a.click();\n",
              "      div.remove();\n",
              "    }\n",
              "  "
            ]
          },
          "metadata": {}
        },
        {
          "output_type": "display_data",
          "data": {
            "text/plain": [
              "<IPython.core.display.Javascript object>"
            ],
            "application/javascript": [
              "download(\"download_6354abce-db84-4f26-b79d-d0624173735a\", \"romanian_music_cleaned_only_lyrics.csv\", 9726587)"
            ]
          },
          "metadata": {}
        }
      ]
    },
    {
      "cell_type": "code",
      "source": [
        "df_cleaned_all = df[['id', 'title', 'artist', 'tag', 'lyrics_cleaned']]\n",
        "\n",
        "df_cleaned_all.to_csv(\"romanian_music_cleaned_with_metadata.csv\", index=False, encoding=\"utf-8\")\n"
      ],
      "metadata": {
        "id": "LVg4YeRgTAuQ"
      },
      "execution_count": 55,
      "outputs": []
    },
    {
      "cell_type": "code",
      "source": [
        "from google.colab import files\n",
        "files.download(\"romanian_music_cleaned_with_metadata.csv\")"
      ],
      "metadata": {
        "colab": {
          "base_uri": "https://localhost:8080/",
          "height": 17
        },
        "id": "-eT4cHP0TKec",
        "outputId": "2dda7b5c-9d46-4f05-c909-1131f9acd1ae"
      },
      "execution_count": 57,
      "outputs": [
        {
          "output_type": "display_data",
          "data": {
            "text/plain": [
              "<IPython.core.display.Javascript object>"
            ],
            "application/javascript": [
              "\n",
              "    async function download(id, filename, size) {\n",
              "      if (!google.colab.kernel.accessAllowed) {\n",
              "        return;\n",
              "      }\n",
              "      const div = document.createElement('div');\n",
              "      const label = document.createElement('label');\n",
              "      label.textContent = `Downloading \"${filename}\": `;\n",
              "      div.appendChild(label);\n",
              "      const progress = document.createElement('progress');\n",
              "      progress.max = size;\n",
              "      div.appendChild(progress);\n",
              "      document.body.appendChild(div);\n",
              "\n",
              "      const buffers = [];\n",
              "      let downloaded = 0;\n",
              "\n",
              "      const channel = await google.colab.kernel.comms.open(id);\n",
              "      // Send a message to notify the kernel that we're ready.\n",
              "      channel.send({})\n",
              "\n",
              "      for await (const message of channel.messages) {\n",
              "        // Send a message to notify the kernel that we're ready.\n",
              "        channel.send({})\n",
              "        if (message.buffers) {\n",
              "          for (const buffer of message.buffers) {\n",
              "            buffers.push(buffer);\n",
              "            downloaded += buffer.byteLength;\n",
              "            progress.value = downloaded;\n",
              "          }\n",
              "        }\n",
              "      }\n",
              "      const blob = new Blob(buffers, {type: 'application/binary'});\n",
              "      const a = document.createElement('a');\n",
              "      a.href = window.URL.createObjectURL(blob);\n",
              "      a.download = filename;\n",
              "      div.appendChild(a);\n",
              "      a.click();\n",
              "      div.remove();\n",
              "    }\n",
              "  "
            ]
          },
          "metadata": {}
        },
        {
          "output_type": "display_data",
          "data": {
            "text/plain": [
              "<IPython.core.display.Javascript object>"
            ],
            "application/javascript": [
              "download(\"download_b922c9ad-2da4-42a6-a9e1-5c0bf1aa2b42\", \"romanian_music_cleaned_with_metadata.csv\", 10052186)"
            ]
          },
          "metadata": {}
        }
      ]
    }
  ]
}